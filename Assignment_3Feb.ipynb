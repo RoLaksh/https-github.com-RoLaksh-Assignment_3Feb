{
 "cells": [
  {
   "cell_type": "markdown",
   "id": "2e7bb35f-64ab-43dc-ac56-56e71d1742bb",
   "metadata": {},
   "source": [
    "Q1. Which keyword is used to create a function? Create a function to return a list of odd numbers in the\n",
    "range of 1 to 25."
   ]
  },
  {
   "cell_type": "markdown",
   "id": "83d5dbf6-28e9-4958-9ba2-99fbe65ccfd5",
   "metadata": {},
   "source": [
    "Answer =>\n",
    "def is Keyword used to create a function."
   ]
  },
  {
   "cell_type": "code",
   "execution_count": 6,
   "id": "0b946765-e753-41f0-adcb-3a4951438d98",
   "metadata": {},
   "outputs": [
    {
     "name": "stdout",
     "output_type": "stream",
     "text": [
      "Odd numbers from 1 to 25: [1, 3, 5, 7, 9, 11, 13, 15, 17, 19, 21, 23, 25]\n"
     ]
    }
   ],
   "source": [
    "#function that returns a list of odd numbers in the range of 1 to 25:\n",
    "def get_odd_numbers():\n",
    "    odd_numbers = []\n",
    "    for num in range(1, 26):\n",
    "        if num % 2 != 0:\n",
    "            odd_numbers.append(num)\n",
    "    return odd_numbers\n",
    "\n",
    "# Example usage:\n",
    "result = get_odd_numbers()\n",
    "print(\"Odd numbers from 1 to 25:\", result)"
   ]
  },
  {
   "cell_type": "markdown",
   "id": "91763ed6-1228-4fca-b963-885033d6eaab",
   "metadata": {},
   "source": [
    "Q2. Why *args and **kwargs is used in some functions? Create a function each for *args and **kwargs\n",
    "to demonstrate their use."
   ]
  },
  {
   "cell_type": "markdown",
   "id": "785fb691-ad03-4a8c-a560-91207708425d",
   "metadata": {},
   "source": [
    "#Answer =>\n",
    "=> args (Arbitrary Arguments):\n",
    "args allows a function to accept an arbitrary number of positional arguments.\n",
    "It collects these arguments into a tuple within the function.\n",
    "Useful when you don’t know in advance how many arguments will be passed."
   ]
  },
  {
   "cell_type": "code",
   "execution_count": 8,
   "id": "48e15679-8c5d-46dd-ab17-0bc0b98a280a",
   "metadata": {},
   "outputs": [
    {
     "name": "stdout",
     "output_type": "stream",
     "text": [
      "apple\n",
      "banana\n",
      "cherry\n"
     ]
    }
   ],
   "source": [
    "#Example function:\n",
    "def print_args(*args):\n",
    "    for arg in args:\n",
    "        print(arg)\n",
    "\n",
    "# Usage\n",
    "print_args(\"apple\", \"banana\", \"cherry\")"
   ]
  },
  {
   "cell_type": "markdown",
   "id": "a344bf43-2758-45ed-96ed-f45a3ca49b6a",
   "metadata": {},
   "source": [
    "=> kwargs (Keyword Arguments):\n",
    "kwargs allows a function to accept an arbitrary number of keyword arguments (key-value pairs).\n",
    "It collects these arguments into a dictionary within the function.\n",
    "Useful when you want to pass named arguments with varying keys."
   ]
  },
  {
   "cell_type": "code",
   "execution_count": 9,
   "id": "0519524d-1169-43d3-aea2-ea1fea15db2c",
   "metadata": {},
   "outputs": [
    {
     "name": "stdout",
     "output_type": "stream",
     "text": [
      "name: Alice\n",
      "age: 30\n",
      "city: Wonderland\n"
     ]
    }
   ],
   "source": [
    "#Example function:\n",
    "def print_kwargs(**kwargs):\n",
    "    for key, value in kwargs.items():\n",
    "        print(f\"{key}: {value}\")\n",
    "\n",
    "# Usage\n",
    "print_kwargs(name=\"Alice\", age=30, city=\"Wonderland\")"
   ]
  },
  {
   "cell_type": "markdown",
   "id": "b3cf9d79-fdc4-4511-9520-23aadf2f72e0",
   "metadata": {},
   "source": [
    "Q3. What is an iterator in python? Name the method used to initialise the iterator object and the method\n",
    "used for iteration. Use these methods to print the first five elements of the given list [2, 4, 6, 8, 10, 12, 14,\n",
    "16, 18, 20]."
   ]
  },
  {
   "cell_type": "markdown",
   "id": "a151bccf-4b9d-446b-9c4f-7a110886ceb7",
   "metadata": {},
   "source": [
    "Answer =>\n",
    "An iterator in Python is an object that allows you to traverse through a sequence of elements (such as a list, tuple, or string) one at a time. It provides a way to access the elements sequentially without loading the entire sequence into memory.\n",
    "To create an iterator, we use the following methods:\n",
    "iter(): This method initializes an iterator object from an iterable (e.g., a list). It returns an iterator that points to the first element of the iterable.\n",
    "next(): This method is used for iteration. It retrieves the next element from the iterator. When all elements are exhausted, it raises a StopIteration exception.An iterator in Python is an object that allows you to traverse through a sequence of elements (such as a list, tuple, or string) one at a time. It provides a way to access the elements sequentially without loading the entire sequence into memory.\n",
    "To create an iterator, we use the following methods:\n",
    "iter(): This method initializes an iterator object from an iterable (e.g., a list). It returns an iterator that points to the first element of the iterable.\n",
    "next(): This method is used for iteration. It retrieves the next element from the iterator. When all elements are exhausted, it raises a StopIteration exception."
   ]
  },
  {
   "cell_type": "code",
   "execution_count": 10,
   "id": "29f4def3-fc95-47ee-9bfa-eb129418ddd2",
   "metadata": {},
   "outputs": [
    {
     "name": "stdout",
     "output_type": "stream",
     "text": [
      "2\n",
      "4\n",
      "6\n",
      "8\n",
      "10\n"
     ]
    }
   ],
   "source": [
    "#Now let’s demonstrate this with the given list [2, 4, 6, 8, 10, 12, 14, 16, 18, 20]:\n",
    "# Create an iterator from the list\n",
    "my_list = [2, 4, 6, 8, 10, 12, 14, 16, 18, 20]\n",
    "my_iterator = iter(my_list)\n",
    "\n",
    "# Print the first five elements using next()\n",
    "for _ in range(5):\n",
    "    print(next(my_iterator))"
   ]
  },
  {
   "cell_type": "markdown",
   "id": "4dce177e-51d2-44aa-97e1-010343613d1e",
   "metadata": {},
   "source": [
    "Q4. What is a generator function in python? Why yield keyword is used? Give an example of a generator\n",
    "function."
   ]
  },
  {
   "cell_type": "markdown",
   "id": "21d35bee-5d3c-41ba-b392-1a7cbc0f5c40",
   "metadata": {},
   "source": [
    "Answer =>\n",
    "A generator function in Python is a special type of function that produces an iterator. Unlike regular functions that execute and return a value, generator functions yield values one at a time as requested. They allow you to create an iterable sequence without loading all the elements into memory at once.\n",
    "Here’s why the yield keyword is used in generator functions:\n",
    "Lazy Evaluation: Generators use lazy evaluation. Instead of computing all values upfront, they generate values on-the-fly as needed. This is memory-efficient for large data sets.\n",
    "State Preservation: When a generator function yields a value, its state is saved. The next time the generator is called, it resumes execution from where it left off. This allows you to create iterators with internal state.\n",
    "Efficient Iteration: Generators are useful for processing large data streams or infinite sequences (e.g., sensor data, log files, etc.) without loading everything into memory."
   ]
  },
  {
   "cell_type": "code",
   "execution_count": 11,
   "id": "504570ba-aec6-4777-a2c1-7d69dfa19539",
   "metadata": {},
   "outputs": [
    {
     "name": "stdout",
     "output_type": "stream",
     "text": [
      "0\n",
      "1\n",
      "1\n",
      "2\n",
      "3\n",
      "5\n",
      "8\n",
      "13\n",
      "21\n",
      "34\n"
     ]
    }
   ],
   "source": [
    "#Example of a generator function:\n",
    "def fibonacci_generator(n):\n",
    "    a, b = 0, 1\n",
    "    for _ in range(n):\n",
    "        yield a\n",
    "        a, b = b, a + b\n",
    "\n",
    "# Usage\n",
    "fibonacci_sequence = fibonacci_generator(10)\n",
    "for num in fibonacci_sequence:\n",
    "    print(num)"
   ]
  },
  {
   "cell_type": "markdown",
   "id": "6e4a2fdd-4e2a-44f5-a8ce-3ee7b58ef5ed",
   "metadata": {},
   "source": [
    "Q5. Create a generator function for prime numbers less than 1000. Use the next() method to print the\n",
    "first 20 prime numbers."
   ]
  },
  {
   "cell_type": "code",
   "execution_count": 12,
   "id": "861aa234-314a-4bec-afa4-bab7d2ce33d6",
   "metadata": {},
   "outputs": [
    {
     "name": "stdout",
     "output_type": "stream",
     "text": [
      "2\n",
      "3\n",
      "5\n",
      "7\n",
      "11\n",
      "13\n",
      "17\n",
      "19\n",
      "23\n",
      "29\n",
      "31\n",
      "37\n",
      "41\n",
      "43\n",
      "47\n",
      "53\n",
      "59\n",
      "61\n",
      "67\n",
      "71\n"
     ]
    }
   ],
   "source": [
    "#Answer = >\n",
    "def is_prime(num):\n",
    "    if num < 2:\n",
    "        return False\n",
    "    for i in range(2, int(num**0.5) + 1):\n",
    "        if num % i == 0:\n",
    "            return False\n",
    "    return True\n",
    "\n",
    "def prime_generator():\n",
    "    num = 2\n",
    "    count = 0\n",
    "    while count < 20:\n",
    "        if is_prime(num):\n",
    "            yield num\n",
    "            count += 1\n",
    "        num += 1\n",
    "\n",
    "# Usage\n",
    "prime_sequence = prime_generator()\n",
    "for _ in range(20):\n",
    "    print(next(prime_sequence))\n"
   ]
  },
  {
   "cell_type": "markdown",
   "id": "a27e793f-31f3-4393-ac98-fda0abe2aa72",
   "metadata": {},
   "source": [
    "Q6. Write a python program to print the first 10 Fibonacci numbers using a while loop."
   ]
  },
  {
   "cell_type": "code",
   "execution_count": 13,
   "id": "0f1a9a64-d314-4c06-8ca1-e5c98efd64b2",
   "metadata": {},
   "outputs": [
    {
     "name": "stdout",
     "output_type": "stream",
     "text": [
      "First 10 Fibonacci numbers:\n",
      "0\n",
      "1\n",
      "1\n",
      "2\n",
      "3\n",
      "5\n",
      "8\n",
      "13\n",
      "21\n",
      "34\n"
     ]
    }
   ],
   "source": [
    "#Answer = >\n",
    "def generate_fibonacci(n):\n",
    "    fib_sequence = []\n",
    "    a, b = 0, 1\n",
    "    while len(fib_sequence) < n:\n",
    "        fib_sequence.append(a)\n",
    "        a, b = b, a + b\n",
    "    return fib_sequence\n",
    "\n",
    "# Get the first 10 Fibonacci numbers\n",
    "first_10_fibonacci = generate_fibonacci(10)\n",
    "\n",
    "print(\"First 10 Fibonacci numbers:\")\n",
    "for num in first_10_fibonacci:\n",
    "    print(num)"
   ]
  },
  {
   "cell_type": "markdown",
   "id": "b9e72474-b127-4f5f-9980-84b97452fd1f",
   "metadata": {},
   "source": [
    "Q7. Write a List Comprehension to iterate through the given string: ‘pwskills’.\n",
    "Expected output: ['p', 'w', 's', 'k', 'i', 'l', 'l', 's']"
   ]
  },
  {
   "cell_type": "code",
   "execution_count": 14,
   "id": "d6b24476-e57b-4c5f-908c-0cde10ed74fe",
   "metadata": {},
   "outputs": [
    {
     "name": "stdout",
     "output_type": "stream",
     "text": [
      "['p', 'w', 's', 'k', 'i', 'l', 'l', 's']\n"
     ]
    }
   ],
   "source": [
    "#Answer =>\n",
    "input_string = 'pwskills'\n",
    "result = [char for char in input_string]\n",
    "print(result)\n"
   ]
  },
  {
   "cell_type": "markdown",
   "id": "a8370f0b-d363-4317-913a-d76316a11632",
   "metadata": {},
   "source": [
    "Q8. Write a python program to check whether a given number is Palindrome or not using a while loop."
   ]
  },
  {
   "cell_type": "code",
   "execution_count": 15,
   "id": "97202880-445c-4216-8389-8a1693eba8e7",
   "metadata": {},
   "outputs": [
    {
     "name": "stdin",
     "output_type": "stream",
     "text": [
      "Enter a number:  5\n"
     ]
    },
    {
     "name": "stdout",
     "output_type": "stream",
     "text": [
      "5 is a palindrome.\n"
     ]
    }
   ],
   "source": [
    "#Answer =>\n",
    "def is_palindrome(number):\n",
    "    original_number = number\n",
    "    reversed_number = 0\n",
    "\n",
    "    while number > 0:\n",
    "        digit = number % 10\n",
    "        reversed_number = reversed_number * 10 + digit\n",
    "        number //= 10\n",
    "\n",
    "    return original_number == reversed_number\n",
    "\n",
    "# Input from the user\n",
    "try:\n",
    "    user_input = int(input(\"Enter a number: \"))\n",
    "    if is_palindrome(user_input):\n",
    "        print(f\"{user_input} is a palindrome.\")\n",
    "    else:\n",
    "        print(f\"{user_input} is not a palindrome.\")\n",
    "except ValueError:\n",
    "    print(\"Invalid input. Please enter a valid integer.\")\n"
   ]
  },
  {
   "cell_type": "markdown",
   "id": "9c41088e-ad86-415c-935d-57c94b37d416",
   "metadata": {},
   "source": [
    "Q9. Write a code to print odd numbers from 1 to 100 using list comprehension.\n",
    "Note: Use a list comprehension to create a list from 1 to 100 and use another List comprehension to filter\n",
    "out odd numbers."
   ]
  },
  {
   "cell_type": "code",
   "execution_count": 16,
   "id": "498b7380-de75-485b-9d9a-cc5f40000a3a",
   "metadata": {},
   "outputs": [
    {
     "name": "stdout",
     "output_type": "stream",
     "text": [
      "Odd numbers from 1 to 100: [1, 3, 5, 7, 9, 11, 13, 15, 17, 19, 21, 23, 25, 27, 29, 31, 33, 35, 37, 39, 41, 43, 45, 47, 49, 51, 53, 55, 57, 59, 61, 63, 65, 67, 69, 71, 73, 75, 77, 79, 81, 83, 85, 87, 89, 91, 93, 95, 97, 99]\n"
     ]
    }
   ],
   "source": [
    "#Answer =>\n",
    "# Using list comprehension to create a list of numbers from 1 to 100\n",
    "all_numbers = [num for num in range(1, 101)]\n",
    "\n",
    "# Using another list comprehension to filter out odd numbers\n",
    "odd_numbers = [num for num in all_numbers if num % 2 != 0]\n",
    "\n",
    "print(\"Odd numbers from 1 to 100:\", odd_numbers)\n"
   ]
  },
  {
   "cell_type": "code",
   "execution_count": null,
   "id": "de0ff16e-31d7-4b26-976c-ee6406ee7b47",
   "metadata": {},
   "outputs": [],
   "source": []
  }
 ],
 "metadata": {
  "kernelspec": {
   "display_name": "Python 3 (ipykernel)",
   "language": "python",
   "name": "python3"
  },
  "language_info": {
   "codemirror_mode": {
    "name": "ipython",
    "version": 3
   },
   "file_extension": ".py",
   "mimetype": "text/x-python",
   "name": "python",
   "nbconvert_exporter": "python",
   "pygments_lexer": "ipython3",
   "version": "3.10.8"
  }
 },
 "nbformat": 4,
 "nbformat_minor": 5
}
